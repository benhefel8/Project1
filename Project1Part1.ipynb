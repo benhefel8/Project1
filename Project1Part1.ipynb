{
 "cells": [
  {
   "cell_type": "code",
   "execution_count": 4,
   "id": "df3a98ee-5656-42ae-bd63-ec4d01722ade",
   "metadata": {},
   "outputs": [],
   "source": [
    "from composable import pipeable\n",
    "from composable.strict import map, filter\n",
    "from composable_glob import glob\n",
    "from composable_utility import with_open\n",
    "import composable_records as rec\n",
    "import composable_tuples as tup"
   ]
  },
  {
   "cell_type": "code",
   "execution_count": 6,
   "id": "467a2d6a-9a6c-40ef-b995-7ea5d69c62b6",
   "metadata": {},
   "outputs": [],
   "source": [
    "from composable_utility import get, with_open, identity\n",
    "from composable_object import obj, attr\n",
    "from composable_origami import fold"
   ]
  },
  {
   "cell_type": "code",
   "execution_count": 12,
   "id": "e42b83db-ceb1-4af5-b227-081bbe5a9bc6",
   "metadata": {},
   "outputs": [
    {
     "data": {
      "text/plain": [
       "['./attendance_example_fixed_width\\\\dsci494s7\\\\Attendance Quiz - User Attempts.txt',\n",
       " './attendance_example_fixed_width\\\\dsci494s7\\\\Practice Quiz - Module 1 - User Attempts.txt',\n",
       " './attendance_example_fixed_width\\\\dsci494s7\\\\Practice Quiz - Module 2 - User Attempts.txt',\n",
       " './attendance_example_fixed_width\\\\dsci494s7\\\\Practice Quiz - Module 3 - User Attempts.txt',\n",
       " './attendance_example_fixed_width\\\\dsci494s7\\\\Practice Quiz - Module 4 - User Attempts.txt',\n",
       " './attendance_example_fixed_width\\\\stat180s18\\\\Attendance Quiz - User Attempts.txt',\n",
       " './attendance_example_fixed_width\\\\stat491s1\\\\Attendance Quiz - User Attempts.txt',\n",
       " './attendance_example_fixed_width\\\\stat491s1\\\\Practice Quiz - Module 1 - User Attempts.txt',\n",
       " './attendance_example_fixed_width\\\\stat491s1\\\\Practice Quiz - Module 2 - User Attempts.txt',\n",
       " './attendance_example_fixed_width\\\\stat491s1\\\\Practice Quiz - Module 3 - User Attempts.txt',\n",
       " './attendance_example_fixed_width\\\\stat491s1\\\\Practice Quiz - Module 4 - User Attempts.txt']"
      ]
     },
     "execution_count": 12,
     "metadata": {},
     "output_type": "execute_result"
    }
   ],
   "source": [
    "(paths :=\n",
    " \"./attendance_example_fixed_width/*/*.txt\"\n",
    " >> glob(recursive=True)\n",
    ")"
   ]
  },
  {
   "cell_type": "code",
   "execution_count": 26,
   "id": "5611ef7b-296c-4189-9e04-7dc4b4189205",
   "metadata": {},
   "outputs": [],
   "source": [
    "get_course_section = lambda filepath: (\n",
    "    filepath.split('/')[-2][:-2],  # e.g. \"dsci494s7\" -> \"dsci494\"\n",
    "    filepath.split('/')[-2][-2:]   # e.g. \"dsci494s7\" -> \"s7\"\n",
    ")"
   ]
  },
  {
   "cell_type": "code",
   "execution_count": 20,
   "id": "7aa1b89d-0740-4f06-aab2-09ed951689dc",
   "metadata": {},
   "outputs": [],
   "source": [
    "parse_line = lambda line: rec.Record(\n",
    "    OrgDefinedID = line[  0:  9].strip(),\n",
    "    UserName     = line[  9: 18].strip(),\n",
    "    FirstName    = line[ 18: 30].strip(),\n",
    "    LastName     = line[ 30: 42].strip(),\n",
    "    AttemptNum   = line[ 42: 45].strip(),\n",
    "    Score        = line[ 45: 48].strip(),\n",
    "    OutOf        = line[ 48: 51].strip(),\n",
    "    AttemptStart = line[ 51: 71].strip(),\n",
    "    AttemptEnd   = line[ 71: 91].strip(),\n",
    "    Percent      = line[ 91: 97].strip()\n",
    ")"
   ]
  },
  {
   "cell_type": "code",
   "execution_count": 32,
   "id": "46925678-152c-4337-a363-ddd9228e0999",
   "metadata": {},
   "outputs": [
    {
     "ename": "TypeError",
     "evalue": "unsupported operand type(s) for +: 'Record' and 'Record'",
     "output_type": "error",
     "traceback": [
      "\u001b[1;31m---------------------------------------------------------------------------\u001b[0m",
      "\u001b[1;31mTypeError\u001b[0m                                 Traceback (most recent call last)",
      "Cell \u001b[1;32mIn[32], line 14\u001b[0m\n\u001b[0;32m     11\u001b[0m     \u001b[38;5;28;01mcontinue\u001b[39;00m\n\u001b[0;32m     13\u001b[0m \u001b[38;5;66;03m# Parse the line, then merge in Course & Section fields\u001b[39;00m\n\u001b[1;32m---> 14\u001b[0m parsed \u001b[38;5;241m=\u001b[39m parse_line(line) \u001b[38;5;241m+\u001b[39m rec\u001b[38;5;241m.\u001b[39mRecord(Course\u001b[38;5;241m=\u001b[39mcourse, Section\u001b[38;5;241m=\u001b[39msection)\n\u001b[0;32m     16\u001b[0m \u001b[38;5;66;03m# Add to our master list\u001b[39;00m\n\u001b[0;32m     17\u001b[0m all_records\u001b[38;5;241m.\u001b[39mappend(parsed)\n",
      "\u001b[1;31mTypeError\u001b[0m: unsupported operand type(s) for +: 'Record' and 'Record'"
     ]
    }
   ],
   "source": [
    "all_records = []\n",
    "for filepath in paths:\n",
    "    # Extract course & section from folder\n",
    "    course, section = get_course_section(filepath)\n",
    "    \n",
    "    # Open file with built-in `open()`\n",
    "    with open(filepath, mode=\"r\") as f:\n",
    "        for line in f:\n",
    "            # Skip header lines if needed\n",
    "            if \"Org Defined ID\" in line:\n",
    "                continue\n",
    "            \n",
    "            # Parse the line, then merge in Course & Section fields\n",
    "            parsed = parse_line(line) + rec.Record(Course=course, Section=section)\n",
    "            \n",
    "            # Add to our master list\n",
    "            all_records.append(parsed)\n"
   ]
  }
 ],
 "metadata": {
  "kernelspec": {
   "display_name": "Python 3 (ipykernel)",
   "language": "python",
   "name": "python3"
  },
  "language_info": {
   "codemirror_mode": {
    "name": "ipython",
    "version": 3
   },
   "file_extension": ".py",
   "mimetype": "text/x-python",
   "name": "python",
   "nbconvert_exporter": "python",
   "pygments_lexer": "ipython3",
   "version": "3.12.3"
  }
 },
 "nbformat": 4,
 "nbformat_minor": 5
}
